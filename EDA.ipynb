{
 "cells": [
  {
   "cell_type": "code",
   "execution_count": null,
   "metadata": {},
   "outputs": [],
   "source": [
    "import os\n",
    "import sysç\n",
    "import pandas as pd\n",
    "\n",
    "FILEPATH = os.path.join(\"data\", \"raw_data.xlsx\")\n",
    "df = pd.read_excel(FILEPATH)\n",
    "\n",
    "df = df.drop([\n",
    "    \"approxdate\", \"country\", \"region\", \"specificty\", \"alternative\",\n",
    "    \"attacktype1\", \"attacktype2\", \"attacktype3\", \"attacktype2_txt\", \"attacktype3_txt\",\n",
    "    \"targtype1\", \"targsubtype1\", \"natlty1\", \n",
    "    \"targtype2\",\"targtype2_txt\", \"corp2\", \"target2\", \"natlty2\", \"natlty2_txt\",\n",
    "    \"targtype3\",\"targtype3_txt\", \"corp3\", \"target3\", \"natlty3\", \"natlty3_txt\",\n",
    "    \"gsubname\", \"gname2\", \"gsubname2\", \"gname3\", \"gsubname3\",\n",
    "    \"guncertain2\", \"guncertain3\",\n",
    "    \"claimmode\", \"claim2\", \"claimmode2\", \"claimmode2_txt\", \"claim3\", \"claimmode3\", \"claimmode3_txt\",\n",
    "    \"weaptype1\", \"weaptype2\", \"weaptype2_txt\", \"weapsubtype2\", \"weapsubtype2_txt\", \"weaptype3\", \"weaptype3_txt\", \"weapsubtype3\", \"weapsubtype3_txt\", \"weaptype4\", \"weaptype4_txt\", \"weapsubtype4\", \"weapsubtype4_txt\",\n",
    "    \"nkillus\", \"nwoundus\", \"propextent\", \"nhostkidus\", \"divert\", \"kidhijcountry\", \"ransomamtus\", \"ransompaidus\", \n",
    "    \"hostkidoutcome\", \"addnotes\", \"scite1\", \"scite2\", \"scite3\", \"dbsource\"\n",
    "],   inplace=True)"
   ]
  }
 ],
 "metadata": {
  "kernelspec": {
   "display_name": "Python 3.9.12 ('base')",
   "language": "python",
   "name": "python3"
  },
  "language_info": {
   "name": "python",
   "version": "3.9.12"
  },
  "orig_nbformat": 4,
  "vscode": {
   "interpreter": {
    "hash": "8d6a2e119b7431053465672262f63b32bbd4785f2d635a2be6be04f313bb26f2"
   }
  }
 },
 "nbformat": 4,
 "nbformat_minor": 2
}
